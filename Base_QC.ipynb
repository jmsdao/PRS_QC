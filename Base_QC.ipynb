{
 "cells": [
  {
   "cell_type": "markdown",
   "id": "a87a3e8f",
   "metadata": {},
   "source": [
    "# What we are doing\n",
    "- We are following a portion of a tutorial outlined in this paper: https://doi.org/10.1038/s41596-020-0353-1.\n",
    "- The portion we are following is QC of base data.\n",
    "- We will take a pre-QC data file called `Height.gwas.txt.gz` and perform some QC described by the paper.\n",
    "- After performing QC, we will check our result against a correctly QC'd file called `Height.QC.gz`.\n",
    "\n",
    "# Requirements\n",
    "- Download `Height.gwas.txt.gz` from [this link](https://drive.google.com/file/d/1RWjk49QNZj9zvJHc9X_wyZ51fdy6xQjv/view?usp=sharing), and place it in the same directory as this notebook.\n",
    "- Download `post-qc.zip` from [this link](https://drive.google.com/file/d/1x_G0Gxk9jFMY-PMqwtg6-vdEyUPp5p5u/view), unzip it and copy `Height.QC.gz` into the same directory as this notebook."
   ]
  },
  {
   "cell_type": "code",
   "execution_count": 1,
   "id": "bd5c815f",
   "metadata": {
    "execution": {
     "iopub.execute_input": "2021-06-04T06:26:58.710884Z",
     "iopub.status.busy": "2021-06-04T06:26:58.710884Z",
     "iopub.status.idle": "2021-06-04T06:26:59.194997Z",
     "shell.execute_reply": "2021-06-04T06:26:59.194078Z",
     "shell.execute_reply.started": "2021-06-04T06:26:58.710884Z"
    },
    "tags": []
   },
   "outputs": [],
   "source": [
    "import numpy as np\n",
    "import pandas as pd"
   ]
  },
  {
   "cell_type": "code",
   "execution_count": 2,
   "id": "f8ece872",
   "metadata": {
    "execution": {
     "iopub.execute_input": "2021-06-04T06:26:59.198039Z",
     "iopub.status.busy": "2021-06-04T06:26:59.198039Z",
     "iopub.status.idle": "2021-06-04T06:27:00.594994Z",
     "shell.execute_reply": "2021-06-04T06:27:00.593021Z",
     "shell.execute_reply.started": "2021-06-04T06:26:59.198039Z"
    },
    "tags": []
   },
   "outputs": [
    {
     "data": {
      "text/html": [
       "<div>\n",
       "<style scoped>\n",
       "    .dataframe tbody tr th:only-of-type {\n",
       "        vertical-align: middle;\n",
       "    }\n",
       "\n",
       "    .dataframe tbody tr th {\n",
       "        vertical-align: top;\n",
       "    }\n",
       "\n",
       "    .dataframe thead th {\n",
       "        text-align: right;\n",
       "    }\n",
       "</style>\n",
       "<table border=\"1\" class=\"dataframe\">\n",
       "  <thead>\n",
       "    <tr style=\"text-align: right;\">\n",
       "      <th></th>\n",
       "      <th>CHR</th>\n",
       "      <th>BP</th>\n",
       "      <th>SNP</th>\n",
       "      <th>A1</th>\n",
       "      <th>A2</th>\n",
       "      <th>N</th>\n",
       "      <th>SE</th>\n",
       "      <th>P</th>\n",
       "      <th>OR</th>\n",
       "      <th>INFO</th>\n",
       "      <th>MAF</th>\n",
       "    </tr>\n",
       "  </thead>\n",
       "  <tbody>\n",
       "    <tr>\n",
       "      <th>0</th>\n",
       "      <td>1</td>\n",
       "      <td>756604</td>\n",
       "      <td>rs3131962</td>\n",
       "      <td>A</td>\n",
       "      <td>G</td>\n",
       "      <td>388028</td>\n",
       "      <td>0.003017</td>\n",
       "      <td>0.483171</td>\n",
       "      <td>0.997887</td>\n",
       "      <td>0.890558</td>\n",
       "      <td>0.369390</td>\n",
       "    </tr>\n",
       "    <tr>\n",
       "      <th>1</th>\n",
       "      <td>1</td>\n",
       "      <td>768448</td>\n",
       "      <td>rs12562034</td>\n",
       "      <td>A</td>\n",
       "      <td>G</td>\n",
       "      <td>388028</td>\n",
       "      <td>0.003295</td>\n",
       "      <td>0.834808</td>\n",
       "      <td>1.000687</td>\n",
       "      <td>0.895894</td>\n",
       "      <td>0.336846</td>\n",
       "    </tr>\n",
       "    <tr>\n",
       "      <th>2</th>\n",
       "      <td>1</td>\n",
       "      <td>779322</td>\n",
       "      <td>rs4040617</td>\n",
       "      <td>G</td>\n",
       "      <td>A</td>\n",
       "      <td>388028</td>\n",
       "      <td>0.003033</td>\n",
       "      <td>0.428970</td>\n",
       "      <td>0.997604</td>\n",
       "      <td>0.897508</td>\n",
       "      <td>0.377368</td>\n",
       "    </tr>\n",
       "    <tr>\n",
       "      <th>3</th>\n",
       "      <td>1</td>\n",
       "      <td>801536</td>\n",
       "      <td>rs79373928</td>\n",
       "      <td>G</td>\n",
       "      <td>T</td>\n",
       "      <td>388028</td>\n",
       "      <td>0.008413</td>\n",
       "      <td>0.808999</td>\n",
       "      <td>1.002036</td>\n",
       "      <td>0.908963</td>\n",
       "      <td>0.483212</td>\n",
       "    </tr>\n",
       "    <tr>\n",
       "      <th>4</th>\n",
       "      <td>1</td>\n",
       "      <td>808631</td>\n",
       "      <td>rs11240779</td>\n",
       "      <td>G</td>\n",
       "      <td>A</td>\n",
       "      <td>388028</td>\n",
       "      <td>0.002428</td>\n",
       "      <td>0.590265</td>\n",
       "      <td>1.001308</td>\n",
       "      <td>0.893213</td>\n",
       "      <td>0.450410</td>\n",
       "    </tr>\n",
       "  </tbody>\n",
       "</table>\n",
       "</div>"
      ],
      "text/plain": [
       "   CHR      BP         SNP A1 A2       N        SE         P        OR  \\\n",
       "0    1  756604   rs3131962  A  G  388028  0.003017  0.483171  0.997887   \n",
       "1    1  768448  rs12562034  A  G  388028  0.003295  0.834808  1.000687   \n",
       "2    1  779322   rs4040617  G  A  388028  0.003033  0.428970  0.997604   \n",
       "3    1  801536  rs79373928  G  T  388028  0.008413  0.808999  1.002036   \n",
       "4    1  808631  rs11240779  G  A  388028  0.002428  0.590265  1.001308   \n",
       "\n",
       "       INFO       MAF  \n",
       "0  0.890558  0.369390  \n",
       "1  0.895894  0.336846  \n",
       "2  0.897508  0.377368  \n",
       "3  0.908963  0.483212  \n",
       "4  0.893213  0.450410  "
      ]
     },
     "execution_count": 2,
     "metadata": {},
     "output_type": "execute_result"
    }
   ],
   "source": [
    "base = pd.read_csv('Height.gwas.txt.gz', sep='\\t', compression='gzip')\n",
    "base.head()"
   ]
  },
  {
   "cell_type": "markdown",
   "id": "e18d0100",
   "metadata": {},
   "source": [
    "# QC checklist: Base data"
   ]
  },
  {
   "cell_type": "markdown",
   "id": "e674c64b",
   "metadata": {},
   "source": [
    "## File transfer\n",
    "A common problem is that the downloaded base data file can be corrupted during download, which can cause PRS software to crash or to produce errors in results. However, a md5sum hash is generally included in files so that file integrity can be checked.\n",
    "\n",
    "If the file `Height.gwas.txt.gz` is intact, then md5sum generates a string of characters, which in this case should be: `a2b15fb6a2bbbe7ef49f67959b43b160`"
   ]
  },
  {
   "cell_type": "code",
   "execution_count": 3,
   "id": "91b994d8",
   "metadata": {
    "execution": {
     "iopub.execute_input": "2021-06-04T06:27:00.598980Z",
     "iopub.status.busy": "2021-06-04T06:27:00.598980Z",
     "iopub.status.idle": "2021-06-04T06:27:00.968416Z",
     "shell.execute_reply": "2021-06-04T06:27:00.964418Z",
     "shell.execute_reply.started": "2021-06-04T06:27:00.598980Z"
    },
    "tags": []
   },
   "outputs": [],
   "source": [
    "%%bash --out checksum\n",
    "# IPython magic that saves bash output to a Python variable 'checksum'\n",
    "\n",
    "md5sum Height.gwas.txt.gz"
   ]
  },
  {
   "cell_type": "code",
   "execution_count": 4,
   "id": "e0b64180",
   "metadata": {
    "execution": {
     "iopub.execute_input": "2021-06-04T06:27:00.970409Z",
     "iopub.status.busy": "2021-06-04T06:27:00.970409Z",
     "iopub.status.idle": "2021-06-04T06:27:00.982540Z",
     "shell.execute_reply": "2021-06-04T06:27:00.978454Z",
     "shell.execute_reply.started": "2021-06-04T06:27:00.970409Z"
    },
    "tags": []
   },
   "outputs": [
    {
     "data": {
      "text/plain": [
       "True"
      ]
     },
     "execution_count": 4,
     "metadata": {},
     "output_type": "execute_result"
    }
   ],
   "source": [
    "# Outputs 'True' if hashes match, which means data in not corrupted\n",
    "checksum.split()[0] == 'a2b15fb6a2bbbe7ef49f67959b43b160'"
   ]
  },
  {
   "cell_type": "markdown",
   "id": "0d94b457",
   "metadata": {},
   "source": [
    "## Heritability check\n",
    "It is recommended that PRS analyses are performed on base data with a chip-heritability estimate of $h_{snp}^2 > 0.05$"
   ]
  },
  {
   "cell_type": "code",
   "execution_count": 5,
   "id": "0aa7a09b",
   "metadata": {
    "execution": {
     "iopub.execute_input": "2021-06-04T06:27:00.986488Z",
     "iopub.status.busy": "2021-06-04T06:27:00.984493Z",
     "iopub.status.idle": "2021-06-04T06:27:00.994486Z",
     "shell.execute_reply": "2021-06-04T06:27:00.992486Z",
     "shell.execute_reply.started": "2021-06-04T06:27:00.986488Z"
    },
    "tags": []
   },
   "outputs": [],
   "source": [
    "# Height GWAS data is simulated to have a chip-heritability much greater than 0.05.\n",
    "# Nothing to do."
   ]
  },
  {
   "cell_type": "markdown",
   "id": "08e843e0",
   "metadata": {},
   "source": [
    "## Effect allele\n",
    "Clarify which data column has the effect allele."
   ]
  },
  {
   "cell_type": "code",
   "execution_count": 6,
   "id": "8d2b12fa",
   "metadata": {
    "execution": {
     "iopub.execute_input": "2021-06-04T06:27:01.002489Z",
     "iopub.status.busy": "2021-06-04T06:27:01.000501Z",
     "iopub.status.idle": "2021-06-04T06:27:01.008026Z",
     "shell.execute_reply": "2021-06-04T06:27:01.008026Z",
     "shell.execute_reply.started": "2021-06-04T06:27:01.002489Z"
    },
    "tags": []
   },
   "outputs": [],
   "source": [
    "# Note that column 'A1' holds the effect allele."
   ]
  },
  {
   "cell_type": "markdown",
   "id": "e183ae9b",
   "metadata": {},
   "source": [
    "## Genomic build\n",
    "Base data and target data should be generated from the same genome build.  \n",
    "Tools such as [LiftOver](https://genome.ucsc.edu/cgi-bin/hgLiftOver) can be used to make builds consistent across data sets."
   ]
  },
  {
   "cell_type": "code",
   "execution_count": 7,
   "id": "a1fb6ac4",
   "metadata": {
    "execution": {
     "iopub.execute_input": "2021-06-04T06:27:01.016056Z",
     "iopub.status.busy": "2021-06-04T06:27:01.012028Z",
     "iopub.status.idle": "2021-06-04T06:27:01.040030Z",
     "shell.execute_reply": "2021-06-04T06:27:01.036044Z",
     "shell.execute_reply.started": "2021-06-04T06:27:01.016056Z"
    },
    "tags": []
   },
   "outputs": [],
   "source": [
    "# Both base and target data is based on same genome build, according to the data provider.\n",
    "# Nothing to do."
   ]
  },
  {
   "cell_type": "markdown",
   "id": "de332a94",
   "metadata": {},
   "source": [
    "## Standard GWAS QC\n",
    "SNPs with low minor allele frequency (MAF) or imputation information score (INFO) are more likely to generate false positive results due to their lower statistical power (and higher probability of genotyping errors in the case of low MAF). Therefore, SNPs with low MAF or low INFO are typically removed before performing downstream analyses.\n",
    "\n",
    "The paper recommends removing SNPs with MAF < 1% or INFO < 0.8 (with very large base sample sizes these thresholds could be reduced if sensitivity checks indicate reliable results)."
   ]
  },
  {
   "cell_type": "code",
   "execution_count": 8,
   "id": "651e5a74",
   "metadata": {
    "execution": {
     "iopub.execute_input": "2021-06-04T06:27:01.044030Z",
     "iopub.status.busy": "2021-06-04T06:27:01.044030Z",
     "iopub.status.idle": "2021-06-04T06:27:01.216052Z",
     "shell.execute_reply": "2021-06-04T06:27:01.214056Z",
     "shell.execute_reply.started": "2021-06-04T06:27:01.044030Z"
    },
    "tags": []
   },
   "outputs": [
    {
     "name": "stdout",
     "output_type": "stream",
     "text": [
      "Number of low statistical power SNPs removed: 9\n"
     ]
    }
   ],
   "source": [
    "low_stat_power = (base['MAF'] < 0.01) | (base['INFO'] < 0.8)\n",
    "base_qc = base[~low_stat_power]\n",
    "\n",
    "print('Number of low statistical power SNPs removed: {}'.format(low_stat_power.sum()))"
   ]
  },
  {
   "cell_type": "markdown",
   "id": "7015a6dd",
   "metadata": {},
   "source": [
    "## Duplicate SNPs\n",
    "If an error has occurred in the generation of the base data then there may be duplicated SNPs in the base data file. Most PRS software do not allow duplicated SNPs in the base data input and thus they should be removed."
   ]
  },
  {
   "cell_type": "code",
   "execution_count": 9,
   "id": "db931adf",
   "metadata": {
    "execution": {
     "iopub.execute_input": "2021-06-04T06:27:01.218025Z",
     "iopub.status.busy": "2021-06-04T06:27:01.218025Z",
     "iopub.status.idle": "2021-06-04T06:27:02.102039Z",
     "shell.execute_reply": "2021-06-04T06:27:02.100022Z",
     "shell.execute_reply.started": "2021-06-04T06:27:01.218025Z"
    },
    "tags": []
   },
   "outputs": [
    {
     "name": "stdout",
     "output_type": "stream",
     "text": [
      "Number of duplicated SNPs removed: 2\n"
     ]
    }
   ],
   "source": [
    "dupes = base_qc.duplicated(keep='first')\n",
    "base_qc = base_qc[~dupes]\n",
    "\n",
    "print('Number of duplicated SNPs removed: {}'.format(dupes.sum()))"
   ]
  },
  {
   "cell_type": "markdown",
   "id": "8f6ee332",
   "metadata": {},
   "source": [
    "## Ambiguous SNPs\n",
    "If the base and target data were generated using different genotyping chips and the chromosome strand (+/-) that was used for either is unknown, then it is not possible to pair-up the alleles of ambiguous SNPs (i.e. those with complementary alleles, either C/G or A/T SNPs) across the data sets, because it will be unknown whether the base and target data are referring to the same allele or not. While allele frequencies could be used to infer which alleles are on the same strand, the accuracy of this could be low for SNPs with MAF close to 50% or when the base and target data are from different populations. Therefore, we recommend removing all ambiguous SNPs to avoid introducing this potential source of systematic error.\n",
    "\n",
    "Ambiguous SNPs can be removed in the base data and then there will be no such SNPs in the subsequent analyses, since analyses are performed only on SNPs that overlap between the base and target data."
   ]
  },
  {
   "cell_type": "code",
   "execution_count": 10,
   "id": "f1521a3e",
   "metadata": {
    "execution": {
     "iopub.execute_input": "2021-06-04T06:27:02.104025Z",
     "iopub.status.busy": "2021-06-04T06:27:02.102039Z",
     "iopub.status.idle": "2021-06-04T06:27:02.452026Z",
     "shell.execute_reply": "2021-06-04T06:27:02.452026Z",
     "shell.execute_reply.started": "2021-06-04T06:27:02.104025Z"
    },
    "tags": []
   },
   "outputs": [
    {
     "name": "stdout",
     "output_type": "stream",
     "text": [
      "Number of ambiguous SNPs removed: 29876\n",
      "Number of non-ambiguous SNPs remaining: 499617\n"
     ]
    }
   ],
   "source": [
    "ambiguous = ((base_qc['A1'] == 'A') & (base_qc['A2'] == 'T')) | \\\n",
    "            ((base_qc['A1'] == 'T') & (base_qc['A2'] == 'A')) | \\\n",
    "            ((base_qc['A1'] == 'C') & (base_qc['A2'] == 'G')) | \\\n",
    "            ((base_qc['A1'] == 'G') & (base_qc['A2'] == 'C'))\n",
    "\n",
    "base_qc = base_qc[~ambiguous]\n",
    "\n",
    "print('Number of ambiguous SNPs removed: {}'.format(ambiguous.sum()))\n",
    "print('Number of non-ambiguous SNPs remaining: {}'.format(len(base_qc)))"
   ]
  },
  {
   "cell_type": "markdown",
   "id": "ab1d1ccb",
   "metadata": {},
   "source": [
    "# Checking our QC against the provided QC\n",
    "If we performed the QC correctly, it should match the QC provided called `Height.QC.gz`"
   ]
  },
  {
   "cell_type": "code",
   "execution_count": 11,
   "id": "6a618cba",
   "metadata": {
    "execution": {
     "iopub.execute_input": "2021-06-04T06:27:02.454024Z",
     "iopub.status.busy": "2021-06-04T06:27:02.454024Z",
     "iopub.status.idle": "2021-06-04T06:27:04.164745Z",
     "shell.execute_reply": "2021-06-04T06:27:04.161760Z",
     "shell.execute_reply.started": "2021-06-04T06:27:02.454024Z"
    },
    "tags": []
   },
   "outputs": [
    {
     "name": "stdout",
     "output_type": "stream",
     "text": [
      "Column \"CHR\" match result:\tTrue\n",
      "Column \"BP\" match result:\tTrue\n",
      "Column \"SNP\" match result:\tTrue\n",
      "Column \"A1\" match result:\tTrue\n",
      "Column \"A2\" match result:\tTrue\n",
      "Column \"N\" match result:\tTrue\n",
      "Column \"SE\" match result:\tTrue\n",
      "Column \"P\" match result:\tTrue\n",
      "Column \"OR\" match result:\tTrue\n",
      "Column \"INFO\" match result:\tTrue\n",
      "Column \"MAF\" match result:\tTrue\n"
     ]
    }
   ],
   "source": [
    "base_qc.reset_index(drop=True, inplace=True)  # reset index before comparing\n",
    "\n",
    "answer = pd.read_csv('Height.QC.gz', sep='\\t', compression='gzip')\n",
    "\n",
    "for col in base_qc.columns:\n",
    "    # Allow tolerance when comparing columns with floats\n",
    "    if (answer[col].dtype == np.float64) or \\\n",
    "       (answer[col].dtype == np.float32) or \\\n",
    "       (answer[col].dtype == np.float16):\n",
    "        col_match = np.allclose(base_qc[col], answer[col], atol=1e-8)\n",
    "    else:\n",
    "        col_match = all(base_qc[col] == answer[col])\n",
    "        \n",
    "    print('Column \"{}\" match result:\\t{}'.format(col, col_match))"
   ]
  },
  {
   "cell_type": "markdown",
   "id": "4febfc84",
   "metadata": {},
   "source": [
    "All good! QC performed successfully!"
   ]
  }
 ],
 "metadata": {
  "kernelspec": {
   "display_name": "Python 3",
   "language": "python",
   "name": "python3"
  },
  "language_info": {
   "codemirror_mode": {
    "name": "ipython",
    "version": 3
   },
   "file_extension": ".py",
   "mimetype": "text/x-python",
   "name": "python",
   "nbconvert_exporter": "python",
   "pygments_lexer": "ipython3",
   "version": "3.8.8"
  }
 },
 "nbformat": 4,
 "nbformat_minor": 5
}
